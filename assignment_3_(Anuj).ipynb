{
  "nbformat": 4,
  "nbformat_minor": 0,
  "metadata": {
    "colab": {
      "provenance": []
    },
    "kernelspec": {
      "name": "python3",
      "display_name": "Python 3"
    },
    "language_info": {
      "name": "python"
    }
  },
  "cells": [
    {
      "cell_type": "markdown",
      "source": [
        "answer - 1"
      ],
      "metadata": {
        "id": "QTS2EfADQRxM"
      }
    },
    {
      "cell_type": "code",
      "source": [
        "class person:\n",
        "    def __init__(self,name,age):\n",
        "      self.name = name\n",
        "      self.age = age\n",
        "\n",
        "    def introduce(self):\n",
        "        print(f\"my name is {self.name} and my age is {self.age}\")"
      ],
      "metadata": {
        "id": "p23KeVQCIlrL"
      },
      "execution_count": null,
      "outputs": []
    },
    {
      "cell_type": "code",
      "execution_count": null,
      "metadata": {
        "colab": {
          "base_uri": "https://localhost:8080/"
        },
        "id": "M6xiPw-FIaRV",
        "outputId": "b33a9934-07a5-44d2-ee88-a64943abbdd7"
      },
      "outputs": [
        {
          "output_type": "stream",
          "name": "stdout",
          "text": [
            "my name is Anuj Sharma and my age is 21\n"
          ]
        }
      ],
      "source": [
        "name = person(\"Anuj Sharma\",21)\n",
        "name.introduce()"
      ]
    },
    {
      "cell_type": "markdown",
      "source": [
        "answer - 2"
      ],
      "metadata": {
        "id": "L5noWos8Qbf7"
      }
    },
    {
      "cell_type": "code",
      "source": [
        "class car:\n",
        "    def __init__(self,brand,model):\n",
        "        self.brand = brand\n",
        "        self.model = model\n",
        "\n",
        "    def display_info(self):\n",
        "        print(f\"this car's brand is {self.brand} and its model is {self.model}\")"
      ],
      "metadata": {
        "id": "18M2klLtKGPy"
      },
      "execution_count": null,
      "outputs": []
    },
    {
      "cell_type": "code",
      "source": [
        "name_1 = car(\"ford\",\"mustang\")\n",
        "name_1.display_info()"
      ],
      "metadata": {
        "colab": {
          "base_uri": "https://localhost:8080/"
        },
        "id": "FNy5F-onMv4h",
        "outputId": "1536199e-e952-48cd-ce8d-4aafb7c1f3c0"
      },
      "execution_count": null,
      "outputs": [
        {
          "output_type": "stream",
          "name": "stdout",
          "text": [
            "this car's brand is ford and its model is mustang\n"
          ]
        }
      ]
    },
    {
      "cell_type": "markdown",
      "source": [
        "answer - 3"
      ],
      "metadata": {
        "id": "m5X1yFfVQeg0"
      }
    },
    {
      "cell_type": "code",
      "source": [
        "class BankAccount:\n",
        "    def __init__(self,account_number,balance):\n",
        "        self.account_number = account_number\n",
        "        self.balance = balance\n",
        "\n",
        "    def display_balance(self):\n",
        "        print(f\"please give your account_number {self.account_number} and gove your balance {self.balance}\")"
      ],
      "metadata": {
        "id": "hHjQCLwpOEjR"
      },
      "execution_count": null,
      "outputs": []
    },
    {
      "cell_type": "code",
      "source": [
        "bankbalance_1 = BankAccount(\"8989100078100078\",\"50000000\")\n",
        "bankbalance_1.display_balance()"
      ],
      "metadata": {
        "colab": {
          "base_uri": "https://localhost:8080/"
        },
        "id": "kT7WzZ91KGAz",
        "outputId": "8201db57-b1d0-436c-d360-7b42585990e9"
      },
      "execution_count": null,
      "outputs": [
        {
          "output_type": "stream",
          "name": "stdout",
          "text": [
            "please give your account_number 8989100078100078 and gove your balance 50000000\n"
          ]
        }
      ]
    },
    {
      "cell_type": "markdown",
      "source": [
        "answer - 4"
      ],
      "metadata": {
        "id": "DOpk1Nq1Qha_"
      }
    },
    {
      "cell_type": "code",
      "source": [
        "class MobilePhone:\n",
        "    def __init__(self,brand,model):\n",
        "        self.brand = brand\n",
        "        self.model = model\n",
        "\n",
        "    def make_call(self):\n",
        "        print(f\"The mobile phone brand is : {self.brand} and the nodel is : {self.model}\")"
      ],
      "metadata": {
        "id": "VCaKOTxvKku8"
      },
      "execution_count": null,
      "outputs": []
    },
    {
      "cell_type": "code",
      "source": [
        "mobilephones_1 = MobilePhone(\"apple\",\"iphone 15 pro\")"
      ],
      "metadata": {
        "id": "aGTt3emZMSYb"
      },
      "execution_count": null,
      "outputs": []
    },
    {
      "cell_type": "code",
      "source": [
        "mobilephones_1.make_call()"
      ],
      "metadata": {
        "colab": {
          "base_uri": "https://localhost:8080/"
        },
        "id": "EvkgCHupNTUX",
        "outputId": "a0e800b8-bc1e-41c5-ef60-46961e162cfe"
      },
      "execution_count": null,
      "outputs": [
        {
          "output_type": "stream",
          "name": "stdout",
          "text": [
            "The mobile phone brand is : apple and the nodel is : iphone 15 pro\n"
          ]
        }
      ]
    },
    {
      "cell_type": "markdown",
      "source": [
        "answer - 5"
      ],
      "metadata": {
        "id": "YoA8qqujQlDK"
      }
    },
    {
      "cell_type": "code",
      "source": [
        "class Book:\n",
        "    def __init__(self,title,author):\n",
        "        self.title = title\n",
        "        self.author = author\n",
        "\n",
        "    def display_info(self):\n",
        "        print(f\"this book : {self.title} is written by : {self.author}\")"
      ],
      "metadata": {
        "id": "yC4geFzqNbIV"
      },
      "execution_count": null,
      "outputs": []
    },
    {
      "cell_type": "code",
      "source": [
        "book_1 = Book(\"1857 ki kranti\",\" K. D. Malviya\")"
      ],
      "metadata": {
        "id": "WuTXCByEQOR7"
      },
      "execution_count": null,
      "outputs": []
    },
    {
      "cell_type": "code",
      "source": [
        "book_1.display_info()"
      ],
      "metadata": {
        "colab": {
          "base_uri": "https://localhost:8080/"
        },
        "id": "bzv-Q8eBTRbv",
        "outputId": "609dcfa8-c9e2-44be-9ae2-ef26e2874593"
      },
      "execution_count": null,
      "outputs": [
        {
          "output_type": "stream",
          "name": "stdout",
          "text": [
            "this book : 1857 ki kranti is written by :  K. D. Malviya\n"
          ]
        }
      ]
    },
    {
      "cell_type": "markdown",
      "source": [
        "answer - 6"
      ],
      "metadata": {
        "id": "y8UeoaKlKnIT"
      }
    },
    {
      "cell_type": "code",
      "source": [
        "class vehicles:\n",
        "      def __init__(self,make,model,year):\n",
        "          self.make = make\n",
        "          self.model = model\n",
        "          self.year = year\n",
        "\n",
        "      def start_engine(self):\n",
        "          print(f\"this car make by :  {self.make} model is : {self.model} and year {self.year}\")\n",
        "\n",
        "      def stop_engine(self):\n",
        "          print(f\"this cars make {self.make} and model is {self.model} and year is {self.year}\")"
      ],
      "metadata": {
        "id": "aQa4rcl9TXgX"
      },
      "execution_count": null,
      "outputs": []
    },
    {
      "cell_type": "code",
      "source": [
        "class car(vehicles):\n",
        "    def __init__(self,make,model,year):\n",
        "        super().__init__(make,model,year)\n",
        "\n",
        "    def start_engine(self):\n",
        "          print(f\" this car make by : {self.make} , model is : {self.model} and year : {self.year}\")\n",
        "\n",
        "    def stop_engine(self):\n",
        "         print(f\"this cars make {self.make} and model is {self.model} and year is {self.year}\")"
      ],
      "metadata": {
        "id": "Op90qZAbP7UZ"
      },
      "execution_count": null,
      "outputs": []
    },
    {
      "cell_type": "code",
      "source": [
        "class motorcycle(vehicles):\n",
        "    def __init__(self,make,model,year):\n",
        "        super().__init__(make,model,year)\n",
        "\n",
        "    def start_engine(self):\n",
        "          print(f\"this car make by : {self.make} model is : {self.model} and year : {self.year}\")\n",
        "\n",
        "    def stop_engine(self):\n",
        "         print(f\"this motorcycle make {self.make} and model is {self.model} and year is {self.year}\")"
      ],
      "metadata": {
        "id": "wdBNs3dBYxDg"
      },
      "execution_count": null,
      "outputs": []
    },
    {
      "cell_type": "code",
      "source": [
        "cars_1 = car(\"ford\",\"mustang\",2023)\n",
        "cars_1.start_engine()\n",
        "cars_1.stop_engine()"
      ],
      "metadata": {
        "colab": {
          "base_uri": "https://localhost:8080/"
        },
        "id": "-chtRdbcao7m",
        "outputId": "3004f15c-ee60-4832-8cc2-4f1e47894f89"
      },
      "execution_count": null,
      "outputs": [
        {
          "output_type": "stream",
          "name": "stdout",
          "text": [
            " this car make by : ford , model is : mustang and year : 2023\n",
            "this cars make ford and model is mustang and year is 2023\n"
          ]
        }
      ]
    },
    {
      "cell_type": "code",
      "source": [
        "bike_1 = motorcycle(\"honda\",\"cb 150r\",2023)\n",
        "bike_1.start_engine()\n",
        "bike_1.stop_engine()"
      ],
      "metadata": {
        "colab": {
          "base_uri": "https://localhost:8080/"
        },
        "id": "_VT5e2qqKMt1",
        "outputId": "25e376d2-924e-4ef0-dbd6-9e578609198e"
      },
      "execution_count": null,
      "outputs": [
        {
          "output_type": "stream",
          "name": "stdout",
          "text": [
            "this car make by : honda model is : cb 150r and year : 2023\n",
            "this motorcycle make honda and model is cb 150r and year is 2023\n"
          ]
        }
      ]
    },
    {
      "cell_type": "markdown",
      "source": [
        "answer - 7"
      ],
      "metadata": {
        "id": "nsNhSqZpNVjg"
      }
    },
    {
      "cell_type": "code",
      "source": [
        "class animals:\n",
        "    def __init__(self,name,category):\n",
        "        self.name = name\n",
        "        self.category = category\n",
        "\n",
        "    def animals_name(self):\n",
        "        print(f\"animal name is : {self.name} and the category is : {self.category}\")"
      ],
      "metadata": {
        "id": "SUi2lzLObLNU"
      },
      "execution_count": null,
      "outputs": []
    },
    {
      "cell_type": "code",
      "source": [
        "class dog(animals):\n",
        "    def __init__(self,name,category):\n",
        "        super().__init__(name,category)\n",
        "\n",
        "    def sound(self):\n",
        "          print(f\"animal name is : {self.name} and the category is : {self.category} barks\")"
      ],
      "metadata": {
        "id": "5DZQAkRAfHk8"
      },
      "execution_count": null,
      "outputs": []
    },
    {
      "cell_type": "code",
      "source": [
        "class cat(animals):\n",
        "    def __init__(self,name,category):\n",
        "        super().__init__(name,category)\n",
        "\n",
        "    def sounds(self):\n",
        "        print(f\"animal name is : {self.name} and its category is : {self.category} meow\")"
      ],
      "metadata": {
        "id": "F2lRB_Ywge4E"
      },
      "execution_count": null,
      "outputs": []
    },
    {
      "cell_type": "code",
      "source": [
        "dog_1 = dog(\"tommy\",\"dog\")\n",
        "dog_1.sound()"
      ],
      "metadata": {
        "id": "QQuhXLumhNhy",
        "colab": {
          "base_uri": "https://localhost:8080/"
        },
        "outputId": "38bc15e5-3d07-4088-a50d-093605ebc4d9"
      },
      "execution_count": null,
      "outputs": [
        {
          "output_type": "stream",
          "name": "stdout",
          "text": [
            "animal name is : tommy and the category is : dog barks\n"
          ]
        }
      ]
    },
    {
      "cell_type": "code",
      "source": [
        "cat_1 = cat(\"simmi\",\"cat\")\n",
        "cat_1.sounds()"
      ],
      "metadata": {
        "colab": {
          "base_uri": "https://localhost:8080/"
        },
        "id": "7K2t8pjkMuyG",
        "outputId": "a3621e14-b378-4b9a-9d8a-a9d46c6a11c1"
      },
      "execution_count": null,
      "outputs": [
        {
          "output_type": "stream",
          "name": "stdout",
          "text": [
            "animal name is : simmi and its category is : cat meow\n"
          ]
        }
      ]
    },
    {
      "cell_type": "markdown",
      "source": [
        "answer - 8"
      ],
      "metadata": {
        "id": "idMDUtCNNQwh"
      }
    },
    {
      "cell_type": "code",
      "source": [
        "class Library:\n",
        "    def __init__(self,title,author,publication_year):\n",
        "        self.title = title\n",
        "        self.author = author\n",
        "        self.publication_year = publication_year\n",
        "\n",
        "    def display_1(self):\n",
        "        print(f\"the title is : {self.title} and author is : {self.author} and publication_year is : {self.publication_year}\")\n"
      ],
      "metadata": {
        "id": "2ZlS_LHINOwx"
      },
      "execution_count": null,
      "outputs": []
    },
    {
      "cell_type": "code",
      "source": [
        "class Book(Library):\n",
        "      def __init__(self,title,author,publication_year,genre):\n",
        "          super().__init__(title,author,publication_year)\n",
        "          self.genre = genre\n",
        "\n",
        "      def display_2(self):\n",
        "          print(f\"the title is : {self.title} and author is : {self.author} and publication_year is : {self.publication_year} and genre is : {self.genre}\")"
      ],
      "metadata": {
        "id": "yrM95VH2Q0e0"
      },
      "execution_count": null,
      "outputs": []
    },
    {
      "cell_type": "code",
      "source": [
        "class Majazine(Library):\n",
        "      def __init__(self,title,author,publication_year,issue_number):\n",
        "          super().__init__(title,author,publication_year)\n",
        "          self.issue_number = issue_number\n",
        "\n",
        "      def display_3(self):\n",
        "          print(f\"the title : {self.title} and author : {self.author} and publication_year : {self.publication_year} and issue_number : {self.issue_number}\")"
      ],
      "metadata": {
        "id": "a8Buw8eRSdPD"
      },
      "execution_count": null,
      "outputs": []
    },
    {
      "cell_type": "code",
      "source": [
        "book_1 = Book(\"1857 ki kranti\",\" K. D. Malviya\",2023,\"fiction\")\n",
        "book_1.display_2()"
      ],
      "metadata": {
        "colab": {
          "base_uri": "https://localhost:8080/"
        },
        "id": "33YY7OR3Ywrp",
        "outputId": "4dc6e2db-cb73-49bb-9b87-6553900938e8"
      },
      "execution_count": null,
      "outputs": [
        {
          "output_type": "stream",
          "name": "stdout",
          "text": [
            "the title is : 1857 ki kranti and author is :  K. D. Malviya and publication_year is : 2023 and genre is : fiction\n"
          ]
        }
      ]
    },
    {
      "cell_type": "code",
      "source": [
        "book_2 = Majazine(\"National Geographic\",\"Various contributors\",1888,\"September 2023 (Vol. 224, No. 3)\")\n",
        "book_2.display_3()"
      ],
      "metadata": {
        "colab": {
          "base_uri": "https://localhost:8080/"
        },
        "id": "iflSzXszgoBc",
        "outputId": "a466de66-a322-49e9-f03e-8c8a65dbb5cc"
      },
      "execution_count": null,
      "outputs": [
        {
          "output_type": "stream",
          "name": "stdout",
          "text": [
            "the title : National Geographic and author : Various contributors and publication_year : 1888 and issue_number : September 2023 (Vol. 224, No. 3)\n"
          ]
        }
      ]
    },
    {
      "cell_type": "markdown",
      "source": [
        "answer - 9"
      ],
      "metadata": {
        "id": "N5zeckyvZgkB"
      }
    },
    {
      "cell_type": "code",
      "source": [
        "class Employee:\n",
        "      def __init__(self,name,salary,department):\n",
        "          self.name = name\n",
        "          self.salary = salary\n",
        "          self.department = department\n",
        "\n",
        "      def display_4(self):\n",
        "          print(f\"the employee name is : {self.name} and employee salary is : {self.salary} and department is : {self.department}\")"
      ],
      "metadata": {
        "id": "rkhbZwvsZBpB"
      },
      "execution_count": null,
      "outputs": []
    },
    {
      "cell_type": "code",
      "source": [
        "class Manager(Employee):\n",
        "      def __init__(self,name,salary,department,assign_task):\n",
        "          super().__init__(name,salary,department)\n",
        "          self.assign_task = assign_task\n",
        "\n",
        "      def display_5(self):\n",
        "          print(f\"the employee name is : {self.name} and employee salary is : {self.salary} and department is : {self.department} and employee task is :{self.assign_task}\")"
      ],
      "metadata": {
        "id": "VIvGrtVxaqj-"
      },
      "execution_count": null,
      "outputs": []
    },
    {
      "cell_type": "code",
      "source": [
        "class staff(Employee):\n",
        "      def __init__(self,name,salary,department,attend_meeting):\n",
        "          super().__init__(name,salary,department)\n",
        "          self.attend_meeting = attend_meeting\n",
        "\n",
        "      def display_6(self):\n",
        "          print(f\"the employee name is : {self.name} and employee salary is : {self.salary} and department is : {self.department} and employee meeting is :{self.attend_meeting}\")\n"
      ],
      "metadata": {
        "id": "a-xDcu9Sb7Go"
      },
      "execution_count": null,
      "outputs": []
    },
    {
      "cell_type": "code",
      "source": [
        "task_1 = Manager(\"anuj\",1000000 ,\"IT\",\"projects\")\n",
        "task_1.display_5()"
      ],
      "metadata": {
        "colab": {
          "base_uri": "https://localhost:8080/"
        },
        "id": "YZ57ZNdbdDbc",
        "outputId": "3a90c21e-3346-4b0a-fd66-25b2d9c0be6c"
      },
      "execution_count": null,
      "outputs": [
        {
          "output_type": "stream",
          "name": "stdout",
          "text": [
            "the employee name is : anuj and employee salary is : 1000000 and department is : IT and employee task is :projects\n"
          ]
        }
      ]
    },
    {
      "cell_type": "code",
      "source": [
        "task_2 = staff(\"tushar\",500000 ,\"worker\",\"live\")\n",
        "task_2.display_6()"
      ],
      "metadata": {
        "colab": {
          "base_uri": "https://localhost:8080/"
        },
        "id": "a3fwTky0dnAe",
        "outputId": "2a012f02-e3fe-423c-a4ef-ef914084b0e5"
      },
      "execution_count": null,
      "outputs": [
        {
          "output_type": "stream",
          "name": "stdout",
          "text": [
            "the employee name is : tushar and employee salary is : 500000 and department is : worker and employee meeting is :live\n"
          ]
        }
      ]
    },
    {
      "cell_type": "markdown",
      "source": [
        "answer - 10"
      ],
      "metadata": {
        "id": "CGvRmW36lJc6"
      }
    },
    {
      "cell_type": "code",
      "source": [
        "class Bank_transaction:\n",
        "      def __init__(self,account_number,balance_amount):\n",
        "          self.account_number = account_number\n",
        "          self.balance_amount = balance_amount\n",
        "\n",
        "      def withdraw(self):\n",
        "           print(\"your bank withdraw is successfull\")\n",
        "\n",
        "      def deposit(self):\n",
        "           print(\"your bank deposit is successfull\")"
      ],
      "metadata": {
        "id": "njotgplDeQnJ"
      },
      "execution_count": 18,
      "outputs": []
    },
    {
      "cell_type": "code",
      "source": [
        "\n",
        "class CheckingAccount(Bank_transaction):\n",
        "      def __init__(self,account_number,balance_amount,deposit_amount,withdraw_amount):\n",
        "          super().__init__(account_number,balance_amount)\n",
        "          self.deposit_amount = deposit_amount\n",
        "          self.withdraw_amount = withdraw_amount\n",
        "\n",
        "      def withdraw(self):\n",
        "          self.balance_amount -= self.withdraw_amount\n",
        "          print(f\"your account nunmber is : {self.account_number} and your balance is : {self.balance_amount}\")\n",
        "\n",
        "      def deposit(self):\n",
        "          self.balance_amount += self.deposit_amount\n",
        "          print(f\"your account nunmber is : {self.account_number} and your balance is : {self.balance_amount}\")\n",
        "\n"
      ],
      "metadata": {
        "id": "v5THuDeHn-WN"
      },
      "execution_count": 19,
      "outputs": []
    },
    {
      "cell_type": "code",
      "source": [
        "class SavingAccount(Bank_transaction):\n",
        "      def __init__(self,account_number,balance_amount,deposit_amount,withdraw_amount):\n",
        "          super().__init__(account_number,balance_amount)\n",
        "          self.deposit_amount = deposit_amount\n",
        "          self.withdraw_amount = withdraw_amount\n",
        "\n",
        "      def withdraw(self):\n",
        "          self.balance_amount -= self.withdraw_amount\n",
        "          print(f\"your account number is : {self.account_number} and your balance is :{self.balance_amount}\")\n",
        "\n",
        "      def deposit(self):\n",
        "          self.balance_amount += self.deposit_amount\n",
        "          print(f\"your account number is : {self.account_number} and your balance is : {self.balance_amount}\")\n"
      ],
      "metadata": {
        "id": "hKh5jhT0qDkS"
      },
      "execution_count": 20,
      "outputs": []
    },
    {
      "cell_type": "code",
      "source": [
        "bankdetails_1 = CheckingAccount(33445677765677,30000,3000,2000)\n",
        "bankdetails_1.withdraw()\n",
        "bankdetails_1.deposit()"
      ],
      "metadata": {
        "colab": {
          "base_uri": "https://localhost:8080/"
        },
        "id": "ad2T8kbKuz3b",
        "outputId": "8ef6a7fe-9926-43f4-d0ae-9970710085d7"
      },
      "execution_count": 21,
      "outputs": [
        {
          "output_type": "stream",
          "name": "stdout",
          "text": [
            "your account nunmber is : 33445677765677 and your balance is : 28000\n",
            "your account nunmber is : 33445677765677 and your balance is : 31000\n"
          ]
        }
      ]
    },
    {
      "cell_type": "code",
      "source": [
        "bankdetails_2 = SavingAccount(2287676310101000 , 100000000,30000,3000000)\n",
        "bankdetails_2.deposit()\n",
        "bankdetails_2.withdraw()"
      ],
      "metadata": {
        "colab": {
          "base_uri": "https://localhost:8080/"
        },
        "id": "jzsqZ8gpvnV0",
        "outputId": "340b1c15-4bf3-4b92-f067-9467f6ab9cbd"
      },
      "execution_count": 23,
      "outputs": [
        {
          "output_type": "stream",
          "name": "stdout",
          "text": [
            "your account number is : 2287676310101000 and your balance is : 100030000\n",
            "your account number is : 2287676310101000 and your balance is :97030000\n"
          ]
        }
      ]
    },
    {
      "cell_type": "markdown",
      "source": [
        "answer - 11"
      ],
      "metadata": {
        "id": "mo6gkhQd4lyX"
      }
    },
    {
      "cell_type": "code",
      "source": [
        "class Person:\n",
        "      def __init__(self,name,age,address):\n",
        "          self.name = name\n",
        "          self.age = age\n",
        "          self.address = address\n",
        "\n",
        "      def details(self):\n",
        "          print(f\"name is :{self.name} and age : {self.age} and address is : {self.address}\")"
      ],
      "metadata": {
        "id": "Rp28P8Ky0SuJ"
      },
      "execution_count": 7,
      "outputs": []
    },
    {
      "cell_type": "code",
      "source": [
        "class student(Person):\n",
        "      def __init__(self,name,age,address,student_id):\n",
        "          super().__init__(name,age,address)\n",
        "          self.student_id = student_id\n",
        "\n",
        "      def details_1(self):\n",
        "          print(f\"name is :{self.name} and age : {self.age} and address is : {self.address} and student id is : {self.student_id}\")"
      ],
      "metadata": {
        "id": "2PHE6etD5ApR"
      },
      "execution_count": 8,
      "outputs": []
    },
    {
      "cell_type": "code",
      "source": [
        "class teacher(Person):\n",
        "      def __init__(self,name,age,address,teacher_id):\n",
        "          super().__init__(name,age,address)\n",
        "          self.teacher_id = teacher_id\n",
        "\n",
        "      def details_2(self):\n",
        "          print(f\"name is :{self.name} and age : {self.age} and address is : {self.address} and teacher id is : {self.teacher_id}\")"
      ],
      "metadata": {
        "id": "VC0dkQ5P5PnK"
      },
      "execution_count": 9,
      "outputs": []
    },
    {
      "cell_type": "code",
      "source": [
        "class staff(Person):\n",
        "      def __init__(self,name,age,address,staff_id):\n",
        "          super().__init__(name,age,address)\n",
        "          self.staff_id = staff\n",
        "\n",
        "      def details_3(self):\n",
        "          print(f\"name is :{self.name} and age : {self.age} and address is : {self.address} and staff id is : {self.staff_id}\")"
      ],
      "metadata": {
        "id": "TGeqbQUV5fk4"
      },
      "execution_count": 10,
      "outputs": []
    },
    {
      "cell_type": "code",
      "source": [
        "student_1 = student(\"anuj\",21,\"alwar\",\"st432\")\n",
        "student_1.details_1()"
      ],
      "metadata": {
        "colab": {
          "base_uri": "https://localhost:8080/"
        },
        "id": "DSo87kMJ5n0H",
        "outputId": "a45b36fe-14a5-46e0-867a-ac89860a918d"
      },
      "execution_count": 12,
      "outputs": [
        {
          "output_type": "stream",
          "name": "stdout",
          "text": [
            "name is :anuj and age : 21 and address is : alwar and student id is : st432\n"
          ]
        }
      ]
    },
    {
      "cell_type": "code",
      "source": [
        "teacher_1 = teacher(\"balram\",21,\"alwar\",\"te432\")\n",
        "teacher_1.details_2()"
      ],
      "metadata": {
        "colab": {
          "base_uri": "https://localhost:8080/"
        },
        "id": "Bm95vsAg5z3z",
        "outputId": "4d60bdfc-015d-470a-b127-468024962f17"
      },
      "execution_count": 13,
      "outputs": [
        {
          "output_type": "stream",
          "name": "stdout",
          "text": [
            "name is :balram and age : 21 and address is : alwar and teacher id is : te432\n"
          ]
        }
      ]
    },
    {
      "cell_type": "code",
      "source": [
        "staff_1 = staff(\"tushar\",21,\"alwar\",\"st432\")\n",
        "staff_1.details_3()"
      ],
      "metadata": {
        "colab": {
          "base_uri": "https://localhost:8080/"
        },
        "id": "MgU5XtCs6HnQ",
        "outputId": "0b80c900-1302-4349-a29e-f24de51e6c8a"
      },
      "execution_count": 14,
      "outputs": [
        {
          "output_type": "stream",
          "name": "stdout",
          "text": [
            "name is :tushar and age : 21 and address is : alwar and staff id is : <class '__main__.staff'>\n"
          ]
        }
      ]
    },
    {
      "cell_type": "code",
      "source": [],
      "metadata": {
        "id": "lE9zi5hO6JpB"
      },
      "execution_count": null,
      "outputs": []
    }
  ]
}